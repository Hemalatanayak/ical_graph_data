{
 "cells": [
  {
   "cell_type": "code",
   "execution_count": 1,
   "metadata": {},
   "outputs": [
    {
     "name": "stdout",
     "output_type": "stream",
     "text": [
      "reading files...\n",
      "Done...\n",
      "        event_id  x_dig  y_dig  z_dig          t        px       py       pz\n",
      "0              0   67.0  314.0  150.0   0.183224  -104.916 -9902.83  2008.89\n",
      "1              1  125.0  117.0   43.0   0.404358   162.639  9261.87 -3810.12\n",
      "2              1  126.0  124.0   42.0   1.246060   117.999  9086.10 -3746.56\n",
      "3              1  126.0  131.0   41.0   2.088590   178.595  8935.31 -3660.74\n",
      "4              1  126.0  139.0   40.0   2.934800   162.224  8766.32 -3581.16\n",
      "...          ...    ...    ...    ...        ...       ...      ...      ...\n",
      "328627      9999  385.0  224.0  146.0  17.165300  2185.750 -1317.63  5128.41\n",
      "328628      9999  386.0  223.0  147.0  17.523300  2167.890 -1296.11  5037.27\n",
      "328629      9999  388.0  223.0  148.0  17.881000  2114.080 -1268.32  4991.11\n",
      "328630      9999  389.0  222.0  149.0  18.238700  2123.180 -1251.53  4898.34\n",
      "328631      9999  390.0  221.0  150.0  18.596900  2067.850 -1229.24  4844.86\n",
      "\n",
      "[328632 rows x 8 columns]\n"
     ]
    }
   ],
   "source": [
    "# code for digitazation of INO-ICAL hits\n",
    "# See  https://github.com/Hemalatanayak/ical_g4/ for more details on detector simulation\n",
    "import numpy as np\n",
    "import matplotlib.pyplot as plt\n",
    "import pandas as pd\n",
    "\n",
    "#all inputs are here: https://github.com/Hemalatanayak/ical_g4/raw/master/data/ical_Event10k_1GeV_nt_ical_data.csv\n",
    "\n",
    "# from google.colab import drive\n",
    "# drive.mount('/content/drive')\n",
    "print(\"reading files...\")\n",
    "df10=pd.read_csv(\"https://github.com/Hemalatanayak/ical_g4/raw/master/data/ical_event10k_10GeV_nt_ical_data.csv\",skiprows=12,sep=\",\",names=[\"event_id\",\"x\",\"y\",\"z\",\"t\",\"Px\",\"Py\",\"Pz\"])\n",
    "df1=pd.read_csv(\"https://github.com/Hemalatanayak/ical_g4/raw/master/data/ical_Event10k_1GeV_nt_ical_data.csv\",skiprows=12,sep=\",\",names=[\"event_id\",\"x\",\"y\",\"z\",\"t\",\"Px\",\"Py\",\"Pz\"])\n",
    "df2=pd.read_csv(\"https://github.com/Hemalatanayak/ical_g4/raw/master/data/ical_Event10k_2GeV_nt_ical_data.csv\",skiprows=12,sep=\",\",names=[\"event_id\",\"x\",\"y\",\"z\",\"t\",\"Px\",\"Py\",\"Pz\"])\n",
    "df3=pd.read_csv(\"https://github.com/Hemalatanayak/ical_g4/raw/master/data/ical_event10k_3GeV_nt_ical_data.csv\",skiprows=12,sep=\",\",names=[\"event_id\",\"x\",\"y\",\"z\",\"t\",\"Px\",\"Py\",\"Pz\"])\n",
    "df4=pd.read_csv(\"https://github.com/Hemalatanayak/ical_g4/raw/master/data/ical_event10k_4GeV_nt_ical_data.csv\",skiprows=12,sep=\",\",names=[\"event_id\",\"x\",\"y\",\"z\",\"t\",\"Px\",\"Py\",\"Pz\"])\n",
    "df5=pd.read_csv(\"https://github.com/Hemalatanayak/ical_g4/raw/master/data/ical_event10k_5GeV_nt_ical_data.csv\",skiprows=12,sep=\",\",names=[\"event_id\",\"x\",\"y\",\"z\",\"t\",\"Px\",\"Py\",\"Pz\"])\n",
    "df6=pd.read_csv(\"https://github.com/Hemalatanayak/ical_g4/raw/master/data/ical_event10k_6GeV_nt_ical_data.csv\",skiprows=12,sep=\",\",names=[\"event_id\",\"x\",\"y\",\"z\",\"t\",\"Px\",\"Py\",\"Pz\"])\n",
    "df7=pd.read_csv(\"https://github.com/Hemalatanayak/ical_g4/raw/master/data/ical_event10k_7GeV_nt_ical_data.csv\",skiprows=12,sep=\",\",names=[\"event_id\",\"x\",\"y\",\"z\",\"t\",\"Px\",\"Py\",\"Pz\"])\n",
    "df8=pd.read_csv(\"https://github.com/Hemalatanayak/ical_g4/raw/master/data/ical_event10k_8GeV_nt_ical_data.csv\",skiprows=12,sep=\",\",names=[\"event_id\",\"x\",\"y\",\"z\",\"t\",\"Px\",\"Py\",\"Pz\"])\n",
    "df9=pd.read_csv(\"https://github.com/Hemalatanayak/ical_g4/raw/master/data/ical_event10k_9GeV_nt_ical_data.csv\",skiprows=12,sep=\",\",names=[\"event_id\",\"x\",\"y\",\"z\",\"t\",\"Px\",\"Py\",\"Pz\"])\n",
    "print(\"Done...\")\n",
    "\n",
    "# the size of the detector along x/y is 16 m. There are 512 strips in each direction\n",
    "p=np.arange(-8000,8000,1) #X- Coordinate\n",
    "q=np.arange(0,512,1)      #(Strip no.)\n",
    "m=max(q)/np.size(p)\n",
    "\n",
    "# the size of the detector along z is 14.4 m. There are 150 layers (detectors).\n",
    "r=np.arange(-7180,7280,1)  #Z- Coordinate \n",
    "layer=np.arange(1,151,1)  #layer numbers (150 layers)\n",
    "slope=max(layer)/np.size(r)\n",
    "\n",
    "# change df1 to  df2, df3 etc... to digitize other files above.\n",
    "event_id=df1['event_id']\n",
    "x_dig=np.round((m*df1['x'])+255.5)\n",
    "y_dig=np.round((m*df1['y'])+255.5)\n",
    "z_dig=np.round((slope*df1['z'])+75.5)\n",
    "t=df1['t']\n",
    "Px=df1['Px']\n",
    "Py=df1['Py']\n",
    "Pz=df1['Pz']\n",
    "\n",
    "digitized_data=pd.DataFrame({'event_id':event_id,'x_dig':x_dig,'y_dig':y_dig,'z_dig':z_dig,'t':t,'px':Px,'py':Py,'pz':Pz })\n",
    "print(digitized_data)\n",
    "#enable the following line to get a file of digitized hits\n",
    "#digitized_data.to_csv('digitized_data.csv')\n"
   ]
  }
 ],
 "metadata": {
  "kernelspec": {
   "display_name": "base",
   "language": "python",
   "name": "python3"
  },
  "language_info": {
   "codemirror_mode": {
    "name": "ipython",
    "version": 3
   },
   "file_extension": ".py",
   "mimetype": "text/x-python",
   "name": "python",
   "nbconvert_exporter": "python",
   "pygments_lexer": "ipython3",
   "version": "3.9.13 (main, Aug 25 2022, 23:26:10) \n[GCC 11.2.0]"
  },
  "orig_nbformat": 4,
  "vscode": {
   "interpreter": {
    "hash": "2c21263ce166de553312db29a327c87c98f32cd4f5f3928735da508b3867c729"
   }
  }
 },
 "nbformat": 4,
 "nbformat_minor": 2
}
