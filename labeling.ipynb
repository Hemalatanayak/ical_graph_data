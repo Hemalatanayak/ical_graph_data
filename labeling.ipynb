{
 "cells": [
  {
   "cell_type": "code",
   "execution_count": 2,
   "metadata": {},
   "outputs": [
    {
     "name": "stdout",
     "output_type": "stream",
     "text": [
      "reading files...\n",
      "Done...\n"
     ]
    },
    {
     "name": "stderr",
     "output_type": "stream",
     "text": [
      "/tmp/ipykernel_4009/3782012671.py:53: SettingWithCopyWarning: \n",
      "A value is trying to be set on a copy of a slice from a DataFrame\n",
      "\n",
      "See the caveats in the documentation: https://pandas.pydata.org/pandas-docs/stable/user_guide/indexing.html#returning-a-view-versus-a-copy\n",
      "  df_csv_concat['graphLabel'][start:end] = i+1\n"
     ]
    },
    {
     "name": "stdout",
     "output_type": "stream",
     "text": [
      "         event_id  x_dig  y_dig  z_dig          t        px        py  \\\n",
      "0               0   67.0  314.0  150.0   0.183224 -104.9160 -9902.830   \n",
      "1               1  125.0  117.0   43.0   0.404358  162.6390  9261.870   \n",
      "2               1  126.0  124.0   42.0   1.246060  117.9990  9086.100   \n",
      "3               1  126.0  131.0   41.0   2.088590  178.5950  8935.310   \n",
      "4               1  126.0  139.0   40.0   2.934800  162.2240  8766.320   \n",
      "...           ...    ...    ...    ...        ...       ...       ...   \n",
      "2312112      9998  445.0  137.0   78.0  28.609300 -204.0800  -248.380   \n",
      "2312113      9998  443.0  134.0   79.0  29.060400 -197.1130  -230.812   \n",
      "2312114      9998  440.0  132.0   80.0  29.582300 -146.2210  -214.404   \n",
      "2312115      9998  437.0  128.0   81.0  30.230200 -138.1360   -83.542   \n",
      "2312116      9999  354.0  498.0   63.0   0.358838  -15.7153  7045.510   \n",
      "\n",
      "                pz  graphLabel  graphID      nodeID  \n",
      "0        2008.8900           1    10000   5192850.0  \n",
      "1       -3810.1200           1    10001   9617593.0  \n",
      "2       -3746.5600           1    10001   9695442.0  \n",
      "3       -3660.7400           1    10001   9696491.0  \n",
      "4       -3581.1600           1    10001   9697690.0  \n",
      "...            ...         ...      ...         ...  \n",
      "2312112   370.2740          10   109998  34196628.0  \n",
      "2312113   274.5170          10   109998  34042579.0  \n",
      "2312114   171.5290          10   109998  33811880.0  \n",
      "2312115    93.2421          10   109998  33580881.0  \n",
      "2312116  -915.9760          10   109999  27261963.0  \n",
      "\n",
      "[2312117 rows x 11 columns]\n"
     ]
    }
   ],
   "source": [
    "#%%\n",
    "# Code for labelling the digitized data of INO-ICAL hits\n",
    "# At first the digitized data files are concatenated into a single csv file and then three more columns have been added named as \n",
    "# graphID, graph labels and nodeID which will be used further for graph construction.\n",
    "# A unique graphID is given for each event.\n",
    "# The label indicates the energy of the event\n",
    "# Each digitized x,y,z point in ICAL is assigned an unique nodeID (0-39321600)\n",
    "\n",
    "# See  https://github.com/Hemalatanayak/ical_g4/ for more details on detector simulation\n",
    "import numpy as np\n",
    "import matplotlib.pyplot as plt\n",
    "import pandas as pd\n",
    "\n",
    "#all inputs are here: ../ical_graph_data/ical_digitized_data\n",
    "\n",
    "# from google.colab import drive\n",
    "# drive.mount('/content/drive')\n",
    "print(\"reading files...\")\n",
    "\n",
    "df1=pd.read_csv(\"../ical_digitized_data/digitized_data_1GeV.csv\",skiprows=1,sep=\",\",names=[\"event_id\",\"x\",\"y\",\"z\",\"t\",\"Px\",\"Py\",\"Pz\"])\n",
    "df2=pd.read_csv(\"../ical_digitized_data/digitized_data_2GeV.csv\",skiprows=1,sep=\",\",names=[\"event_id\",\"x\",\"y\",\"z\",\"t\",\"Px\",\"Py\",\"Pz\"])\n",
    "df3=pd.read_csv(\"../ical_digitized_data/digitized_data_3GeV.csv\",skiprows=1,sep=\",\",names=[\"event_id\",\"x\",\"y\",\"z\",\"t\",\"Px\",\"Py\",\"Pz\"])\n",
    "df4=pd.read_csv(\"../ical_digitized_data/digitized_data_4GeV.csv\",skiprows=1,sep=\",\",names=[\"event_id\",\"x\",\"y\",\"z\",\"t\",\"Px\",\"Py\",\"Pz\"])\n",
    "df5=pd.read_csv(\"../ical_digitized_data/digitized_data_5GeV.csv\",skiprows=1,sep=\",\",names=[\"event_id\",\"x\",\"y\",\"z\",\"t\",\"Px\",\"Py\",\"Pz\"])\n",
    "df6=pd.read_csv(\"../ical_digitized_data/digitized_data_6GeV.csv\",skiprows=1,sep=\",\",names=[\"event_id\",\"x\",\"y\",\"z\",\"t\",\"Px\",\"Py\",\"Pz\"])\n",
    "df7=pd.read_csv(\"../ical_digitized_data/digitized_data_7GeV.csv\",skiprows=1,sep=\",\",names=[\"event_id\",\"x\",\"y\",\"z\",\"t\",\"Px\",\"Py\",\"Pz\"])\n",
    "df8=pd.read_csv(\"../ical_digitized_data/digitized_data_8GeV.csv\",skiprows=1,sep=\",\",names=[\"event_id\",\"x\",\"y\",\"z\",\"t\",\"Px\",\"Py\",\"Pz\"])\n",
    "df9=pd.read_csv(\"../ical_digitized_data/digitized_data_9GeV.csv\",skiprows=1,sep=\",\",names=[\"event_id\",\"x\",\"y\",\"z\",\"t\",\"Px\",\"Py\",\"Pz\"])\n",
    "df10=pd.read_csv(\"../ical_digitized_data/digitized_data_10GeV.csv\",skiprows=1,sep=\",\",names=[\"event_id\",\"x\",\"y\",\"z\",\"t\",\"Px\",\"Py\",\"Pz\"])\n",
    "print(\"Done...\")\n",
    "import glob\n",
    " \n",
    "# list all csv files only\n",
    "path = r'../ical_digitized_data'\n",
    "csv_files = glob.glob(path + \"/*.csv\")\n",
    "csv_files\n",
    "#df_csv_append\n",
    "df_csv= pd.concat([pd.read_csv(file) for file in csv_files ], ignore_index=True)\n",
    "df_csv_concat=df_csv.drop(df_csv.columns[[0]],axis=1)\n",
    "# print(df_csv_concat)\n",
    "ranges = [(0, len(df1)), (len(df1), len(df2)+len(df1)), (len(df2)+len(df1), len(df3)+len(df2)+len(df1)),\n",
    "          (len(df3)+len(df2)+len(df1), len(df4)+len(df3)+len(df2)+len(df1)),\n",
    "          (len(df4)+len(df3)+len(df2)+len(df1), len(df5)+len(df4)+len(df3)+len(df2)+len(df1)),\n",
    "          (len(df5)+len(df4)+len(df3)+len(df2)+len(df1), len(df6)+len(df5)+len(df4)+len(df3)+len(df2)+len(df1)),\n",
    "          (len(df6)+len(df5)+len(df4)+len(df3)+len(df2)+len(df1), len(df7)+len(df6)+len(df5)+len(df4)+len(df3)+len(df2)+len(df1)),\n",
    "          (len(df7)+len(df6)+len(df5)+len(df4)+len(df3)+len(df2)+len(df1), len(df8)+len(df7)+len(df6)+len(df5)+len(df4)+len(df3)+len(df2)+len(df1)),\n",
    "          (len(df8)+len(df7)+len(df6)+len(df5)+len(df4)+len(df3)+len(df2)+len(df1), len(df9)+len(df8)+len(df7)+len(df6)+len(df5)+len(df4)+len(df3)+len(df2)+len(df1)),\n",
    "          (len(df9)+len(df8)+len(df7)+len(df6)+len(df5)+len(df4)+len(df3)+len(df2)+len(df1), len(df10)+len(df9)+len(df8)+len(df7)+len(df6)+len(df5)+len(df4)+len(df3)+len(df2)+len(df1))]\n",
    "\n",
    "# Create a new column named 'graphLabel' and assign values based on the energy of the respective dataset \n",
    "df_csv_concat['graphLabel'] = 0\n",
    "for i, (start, end) in enumerate(ranges):\n",
    "    df_csv_concat['graphLabel'][start:end] = i+1\n",
    "\n",
    "# Creating a new column named 'graphID' \n",
    "# The format of graphID is a combination of graphlabel and eventID.\n",
    "df_csv_concat['graphID'] = 0\n",
    "for i, (start, end) in enumerate(ranges):\n",
    "    df_csv_concat.loc[start:end-1, 'graphID'] = (i+1)*10000 + df_csv_concat.loc[start:end-1, 'event_id']\n",
    "\n",
    "\n",
    "nodeIDs = []\n",
    "# create nodeIds from digitized x, y, z\n",
    "for x, y, z in zip(df_csv_concat['x_dig'], df_csv_concat['y_dig'], df_csv_concat['z_dig']):\n",
    "    nodeID = z + (y * 150) + (x * 150 * 512) # Append the data to the list\n",
    "    nodeIDs.append(nodeID)  # Append the data to the list\n",
    "\n",
    "df_csv_concat['nodeID'] = nodeIDs\n",
    "print(df_csv_concat)\n",
    "\n",
    "# df_csv_concat.to_csv('labeled_data.csv')\n",
    "# print(df_csv_concat.iloc[[0]])\n",
    "# print(df_csv_concat.iloc[[67234]])\n",
    "\n",
    "#Create graphs for each eventID using the concatenated file\n",
    "\n"
   ]
  }
 ],
 "metadata": {
  "kernelspec": {
   "display_name": "base",
   "language": "python",
   "name": "python3"
  },
  "language_info": {
   "codemirror_mode": {
    "name": "ipython",
    "version": 3
   },
   "file_extension": ".py",
   "mimetype": "text/x-python",
   "name": "python",
   "nbconvert_exporter": "python",
   "pygments_lexer": "ipython3",
   "version": "3.9.13 (main, Aug 25 2022, 23:26:10) \n[GCC 11.2.0]"
  },
  "orig_nbformat": 4,
  "vscode": {
   "interpreter": {
    "hash": "2c21263ce166de553312db29a327c87c98f32cd4f5f3928735da508b3867c729"
   }
  }
 },
 "nbformat": 4,
 "nbformat_minor": 2
}
