{
 "cells": [
  {
   "cell_type": "code",
   "execution_count": 6,
   "metadata": {},
   "outputs": [
    {
     "data": {
      "text/plain": [
       "'/home/sree/Desktop/hemalata/ical_graph_data/saved_graphs.zip'"
      ]
     },
     "execution_count": 6,
     "metadata": {},
     "output_type": "execute_result"
    }
   ],
   "source": [
    "# Code for creating graph data structure using the labeled_data.csv which is obtained after execution of labeling.ipynb \n",
    "# Each event is represented as a single graph\n",
    "# Hit coordinates(i.e x_dig,y_dig,z_dig) are used as node features and time difference is used as edge features.\n",
    "# The following code snippet can be used in colab\n",
    "import numpy as np\n",
    "import pandas as pd\n",
    "import matplotlib.pyplot as plt\n",
    "import os\n",
    "from scipy.spatial.distance import cdist\n",
    "import torch\n",
    "import shutil\n",
    "import dgl\n",
    "import  networkx as nx\n",
    "\n",
    "df_csv_concat=pd.read_csv(\"labeled_data.csv\")\n",
    "# df_csv_concat\n",
    "\n",
    "\n",
    "os.environ['DGLBACKEND'] = 'pytorch'\n",
    "\n",
    "\n",
    "\n",
    "# create a folder for saving the graphs\n",
    "if not os.path.exists('saved_graphs'):\n",
    "    os.makedirs('saved_graphs')\n",
    "\n",
    "# Loop over all unique graph IDs in the DataFrame and plotting graph for each graphID\n",
    "min_nodes=5 # graphs with nodes less than min_nodes are not created\n",
    "for graphID in df_csv_concat['graphID'].unique():\n",
    "    # print(f\"Processing event {graphID}\")\n",
    "    \n",
    "    # Filtering the DataFrame to get rows for the desired event\n",
    "    graph_df = df_csv_concat[df_csv_concat['graphID'] == graphID][['x_dig', 'y_dig', 'z_dig', 't','graphLabel','graphID','nodeID']]\n",
    "    num_nodes = len(graph_df)\n",
    "    # print(num_nodes)\n",
    "    if num_nodes > min_nodes:\n",
    "        g = dgl.graph((np.arange(0,num_nodes-1), np.arange(1,num_nodes)))\n",
    "        g.ndata['pos']=torch.tensor(graph_df[['x_dig', 'y_dig', 'z_dig']].values)\n",
    "        t = torch.tensor(graph_df['t'].to_numpy())\n",
    "        g.edata[\"t_diff\"]=t[1:]-t[:-1]\n",
    "        # save the graph as a DGL file in the 'saved_graphs' folder\n",
    "        dgl.save_graphs(f\"saved_graphs/graph_{graphID}.dgl\", g)\n",
    "\n",
    "        #To visualize the graph\n",
    "        # nxg = g.to_networkx()\n",
    "        # pos = nx.kamada_kawai_layout(nxg)\n",
    "        # nx.draw(nxg, pos, node_color=\"r\", node_size=10)\n",
    "        # plt.title(f\"Event {graphID}\")\n",
    "        # plt.show()\n",
    "    # else:\n",
    "    #     print(\"skipping graphs with one node and zero edges\")\n",
    "    # ng=ng+1\n",
    "    # if ng==10:\n",
    "    #     break\n",
    "\n",
    "# make sure the folder name is correct\n",
    "folder_name = 'saved_graphs'\n",
    "shutil.make_archive(\"saved_graphs\", 'zip', folder_name)\n",
    "#To read a graph\n",
    "#graph_list, _ = dgl.load_graphs('/content/saved_graphs/graph_10001.dgl')\n",
    "# # Get the first graph object\n",
    "# data = graph_list[0]\n",
    "#print(graph_list)\n",
    "\n"
   ]
  }
 ],
 "metadata": {
  "kernelspec": {
   "display_name": "base",
   "language": "python",
   "name": "python3"
  },
  "language_info": {
   "codemirror_mode": {
    "name": "ipython",
    "version": 3
   },
   "file_extension": ".py",
   "mimetype": "text/x-python",
   "name": "python",
   "nbconvert_exporter": "python",
   "pygments_lexer": "ipython3",
   "version": "3.9.13 (main, Aug 25 2022, 23:26:10) \n[GCC 11.2.0]"
  },
  "orig_nbformat": 4,
  "vscode": {
   "interpreter": {
    "hash": "2c21263ce166de553312db29a327c87c98f32cd4f5f3928735da508b3867c729"
   }
  }
 },
 "nbformat": 4,
 "nbformat_minor": 2
}
